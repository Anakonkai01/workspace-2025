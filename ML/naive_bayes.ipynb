{
 "cells": [
  {
   "cell_type": "code",
   "execution_count": null,
   "id": "ba23fb10",
   "metadata": {},
   "outputs": [],
   "source": [
    "import numpy as numpy\n",
    "import pandas as pd \n",
    "import matplotlib.pyplot as plt "
   ]
  },
  {
   "cell_type": "markdown",
   "id": "69223abb",
   "metadata": {},
   "source": [
    "### types of naive bayes\n",
    "\n",
    "- Gaussian Naive Bayes (for continous values)\n",
    "- Multinomial Naive Bayes (for discrete values)\n",
    "- Bernoulli Naive Bayes (like multinomial nb but simpler)"
   ]
  }
 ],
 "metadata": {
  "kernelspec": {
   "display_name": "myenv",
   "language": "python",
   "name": "python3"
  },
  "language_info": {
   "name": "python",
   "version": "3.10.18"
  }
 },
 "nbformat": 4,
 "nbformat_minor": 5
}
